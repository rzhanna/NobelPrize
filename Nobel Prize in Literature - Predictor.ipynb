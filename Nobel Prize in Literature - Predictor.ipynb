{
 "cells": [
  {
   "cell_type": "markdown",
   "metadata": {},
   "source": [
    "Who nominated them\n",
    "\n",
    "General demographics\n",
    "- Age / birthdate\n",
    "- Origin/Country\n",
    "- Language\n",
    "\n",
    "\n",
    "\n",
    "Options\n",
    "\n",
    "A. Sentiment Analysis of Wikipedia Page:\n",
    "- Need to remove mention of the words \"nobel prize\" or \"awarded\"\n",
    "Swedish Academy\n",
    "Nobel laureates in Literature\n",
    "\n",
    "\n",
    "B. Excerpts of their work\n",
    "Google Books?\n",
    "\"description\": \"\\\"Here is the story behind one of the most remarkable Internet\n",
    "  successes of our time. Based on scrupulous research and extraordinary access\n",
    "  to Google, ...\",\n",
    "\n",
    "- \n",
    "\n",
    "How far does this get us?\n",
    "\n",
    "\n",
    "--- \n",
    "Other things which may be relevant to gauge popularity:\n",
    "- Number of modifications in wikipedia\n",
    "- Search results in google"
   ]
  }
 ],
 "metadata": {
  "kernelspec": {
   "display_name": "Python 2",
   "language": "python",
   "name": "python2"
  },
  "language_info": {
   "codemirror_mode": {
    "name": "ipython",
    "version": 2
   },
   "file_extension": ".py",
   "mimetype": "text/x-python",
   "name": "python",
   "nbconvert_exporter": "python",
   "pygments_lexer": "ipython2",
   "version": "2.7.10"
  }
 },
 "nbformat": 4,
 "nbformat_minor": 0
}
